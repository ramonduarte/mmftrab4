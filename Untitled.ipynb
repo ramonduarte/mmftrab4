{
 "cells": [
  {
   "cell_type": "code",
   "execution_count": 1,
   "metadata": {},
   "outputs": [],
   "source": [
    "import pandas as pd\n",
    "import statsmodels.api as sm\n"
   ]
  },
  {
   "cell_type": "code",
   "execution_count": 29,
   "metadata": {},
   "outputs": [],
   "source": [
    "df = pd.concat([pd.read_excel(\"xls/COTAHIST_A2019.xls\", header=None, skipfooter=1),\n",
    "                pd.read_excel(\"xls/COTAHIST_A2018.xls\", header=None, skipfooter=1)]).sort_values(by=[1])\n",
    "df = df.filter(items=[1, 3, 5, 6, 9])\n",
    "df[9] = df[9]/100.0"
   ]
  },
  {
   "cell_type": "code",
   "execution_count": 30,
   "metadata": {},
   "outputs": [],
   "source": [
    "abev3on = df[df[3]==\"ABEV3\"].sort_values(by=[1])\n",
    "bbdc3on = df[df[3]==\"BBDC3\"].sort_values(by=[1])\n",
    "btow3on = df[df[3]==\"BTOW3\"].sort_values(by=[1])\n",
    "elet3on = df[df[3]==\"ELET3\"].sort_values(by=[1])"
   ]
  },
  {
   "cell_type": "code",
   "execution_count": 31,
   "metadata": {},
   "outputs": [],
   "source": [
    "abev3on_diff = abev3on[9].pct_change(1)\n",
    "abev3on_diff = abev3on_diff.dropna(axis=0)\n",
    "\n",
    "bbdc3on_diff = bbdc3on[9].pct_change(1)\n",
    "bbdc3on_diff = bbdc3on_diff.dropna(axis=0)\n",
    "\n",
    "btow3on_diff = btow3on[9].pct_change(1)\n",
    "btow3on_diff = btow3on_diff.dropna(axis=0)\n",
    "\n",
    "elet3on_diff = elet3on[9].pct_change(1)\n",
    "elet3on_diff = elet3on_diff.dropna(axis=0)"
   ]
  },
  {
   "cell_type": "code",
   "execution_count": 26,
   "metadata": {},
   "outputs": [
    {
     "data": {
      "text/html": [
       "<div>\n",
       "<style scoped>\n",
       "    .dataframe tbody tr th:only-of-type {\n",
       "        vertical-align: middle;\n",
       "    }\n",
       "\n",
       "    .dataframe tbody tr th {\n",
       "        vertical-align: top;\n",
       "    }\n",
       "\n",
       "    .dataframe thead th {\n",
       "        text-align: right;\n",
       "    }\n",
       "</style>\n",
       "<table border=\"1\" class=\"dataframe\">\n",
       "  <thead>\n",
       "    <tr style=\"text-align: right;\">\n",
       "      <th></th>\n",
       "      <th>1</th>\n",
       "      <th>3</th>\n",
       "      <th>5</th>\n",
       "      <th>6</th>\n",
       "      <th>9</th>\n",
       "    </tr>\n",
       "  </thead>\n",
       "  <tbody>\n",
       "    <tr>\n",
       "      <th>443</th>\n",
       "      <td>2018-01-02</td>\n",
       "      <td>BVMFB62</td>\n",
       "      <td>BVMFE    /EJ</td>\n",
       "      <td>ON      NM</td>\n",
       "      <td>1.00</td>\n",
       "    </tr>\n",
       "    <tr>\n",
       "      <th>1382</th>\n",
       "      <td>2018-01-02</td>\n",
       "      <td>PETRB27</td>\n",
       "      <td>PETRE</td>\n",
       "      <td>PN</td>\n",
       "      <td>0.05</td>\n",
       "    </tr>\n",
       "    <tr>\n",
       "      <th>1381</th>\n",
       "      <td>2018-01-02</td>\n",
       "      <td>PETRB242</td>\n",
       "      <td>PETRE</td>\n",
       "      <td>PN</td>\n",
       "      <td>0.01</td>\n",
       "    </tr>\n",
       "    <tr>\n",
       "      <th>1380</th>\n",
       "      <td>2018-01-02</td>\n",
       "      <td>PETRB24</td>\n",
       "      <td>PETR</td>\n",
       "      <td>PN</td>\n",
       "      <td>2.23</td>\n",
       "    </tr>\n",
       "    <tr>\n",
       "      <th>1379</th>\n",
       "      <td>2018-01-02</td>\n",
       "      <td>PETRB23</td>\n",
       "      <td>PETR</td>\n",
       "      <td>PN</td>\n",
       "      <td>0.02</td>\n",
       "    </tr>\n",
       "  </tbody>\n",
       "</table>\n",
       "</div>"
      ],
      "text/plain": [
       "              1         3             5           6     9\n",
       "443  2018-01-02   BVMFB62  BVMFE    /EJ  ON      NM  1.00\n",
       "1382 2018-01-02   PETRB27         PETRE          PN  0.05\n",
       "1381 2018-01-02  PETRB242         PETRE          PN  0.01\n",
       "1380 2018-01-02   PETRB24          PETR          PN  2.23\n",
       "1379 2018-01-02   PETRB23          PETR          PN  0.02"
      ]
     },
     "execution_count": 26,
     "metadata": {},
     "output_type": "execute_result"
    }
   ],
   "source": [
    "abev3on_const = sm.add_constant(abev3on_diff)\n",
    "bbdc3on_const = sm.add_constant(bbdc3on_diff)\n",
    "btow3on_const = sm.add_constant(btow3on_diff)\n",
    "elet3on_const = sm.add_constant(elet3on_diff)\n",
    "\n",
    "model01 = sm.OLS(list(bbdc3on_diff), abev3on_const)\n",
    "model02 = sm.OLS(list(btow3on_diff), abev3on_const[1:])\n",
    "model03 = sm.OLS(list(elet3on_diff), abev3on_const[1:])\n",
    "\n",
    "model10 = sm.OLS(list(abev3on_diff), bbdc3on_const)\n",
    "model12 = sm.OLS(list(btow3on_diff), bbdc3on_const[1:])\n",
    "model13 = sm.OLS(list(elet3on_diff), bbdc3on_const[1:])\n",
    "\n",
    "model20 = sm.OLS(list(abev3on_diff)[1:], btow3on_const)\n",
    "model21 = sm.OLS(list(bbdc3on_diff)[1:], btow3on_const)\n",
    "model23 = sm.OLS(list(elet3on_diff), btow3on_const)\n",
    "\n",
    "model30 = sm.OLS(list(abev3on_diff)[1:], elet3on_const)\n",
    "model31 = sm.OLS(list(bbdc3on_diff)[1:], elet3on_const)\n",
    "model32 = sm.OLS(list(btow3on_diff), elet3on_const)\n",
    "\n",
    "cov_abev3on = [1.0, model01.fit(), model02.fit(), model03.fit()]\n",
    "cov_bbdc3on = [model10.fit(), 1.0, model12.fit(), model13.fit()]\n",
    "cov_btow3on = [model20.fit(), model21.fit(), 1.0, model23.fit()]\n",
    "cov_bbdc3on = [model30.fit(), model31.fit(), model32.fit(), 1.0]"
   ]
  },
  {
   "cell_type": "code",
   "execution_count": 41,
   "metadata": {},
   "outputs": [
    {
     "data": {
      "text/plain": [
       "(102, 103)"
      ]
     },
     "execution_count": 41,
     "metadata": {},
     "output_type": "execute_result"
    }
   ],
   "source": [
    "len(elet3on_diff), len(abev3on_const)"
   ]
  },
  {
   "cell_type": "code",
   "execution_count": 42,
   "metadata": {},
   "outputs": [
    {
     "name": "stderr",
     "output_type": "stream",
     "text": [
      "/home/ramon/.virtualenvs/mmftrab4-xhWxcJ1U/lib/python3.6/site-packages/numpy/core/fromnumeric.py:2389: FutureWarning: Method .ptp is deprecated and will be removed in a future version. Use numpy.ptp instead.\n",
      "  return ptp(axis=axis, out=out, **kwargs)\n"
     ]
    }
   ],
   "source": []
  },
  {
   "cell_type": "code",
   "execution_count": 38,
   "metadata": {},
   "outputs": [
    {
     "data": {
      "text/html": [
       "<table class=\"simpletable\">\n",
       "<caption>OLS Regression Results</caption>\n",
       "<tr>\n",
       "  <th>Dep. Variable:</th>            <td>y</td>        <th>  R-squared:         </th> <td>   0.133</td>\n",
       "</tr>\n",
       "<tr>\n",
       "  <th>Model:</th>                   <td>OLS</td>       <th>  Adj. R-squared:    </th> <td>   0.124</td>\n",
       "</tr>\n",
       "<tr>\n",
       "  <th>Method:</th>             <td>Least Squares</td>  <th>  F-statistic:       </th> <td>   15.49</td>\n",
       "</tr>\n",
       "<tr>\n",
       "  <th>Date:</th>             <td>Sat, 22 Jun 2019</td> <th>  Prob (F-statistic):</th> <td>0.000152</td>\n",
       "</tr>\n",
       "<tr>\n",
       "  <th>Time:</th>                 <td>22:40:33</td>     <th>  Log-Likelihood:    </th> <td>  236.84</td>\n",
       "</tr>\n",
       "<tr>\n",
       "  <th>No. Observations:</th>      <td>   103</td>      <th>  AIC:               </th> <td>  -469.7</td>\n",
       "</tr>\n",
       "<tr>\n",
       "  <th>Df Residuals:</th>          <td>   101</td>      <th>  BIC:               </th> <td>  -464.4</td>\n",
       "</tr>\n",
       "<tr>\n",
       "  <th>Df Model:</th>              <td>     1</td>      <th>                     </th>     <td> </td>   \n",
       "</tr>\n",
       "<tr>\n",
       "  <th>Covariance Type:</th>      <td>nonrobust</td>    <th>                     </th>     <td> </td>   \n",
       "</tr>\n",
       "</table>\n",
       "<table class=\"simpletable\">\n",
       "<tr>\n",
       "    <td></td>       <th>coef</th>     <th>std err</th>      <th>t</th>      <th>P>|t|</th>  <th>[0.025</th>    <th>0.975]</th>  \n",
       "</tr>\n",
       "<tr>\n",
       "  <th>const</th> <td>    0.0002</td> <td>    0.002</td> <td>    0.067</td> <td> 0.947</td> <td>   -0.005</td> <td>    0.005</td>\n",
       "</tr>\n",
       "<tr>\n",
       "  <th>9</th>     <td>    0.2894</td> <td>    0.074</td> <td>    3.936</td> <td> 0.000</td> <td>    0.144</td> <td>    0.435</td>\n",
       "</tr>\n",
       "</table>\n",
       "<table class=\"simpletable\">\n",
       "<tr>\n",
       "  <th>Omnibus:</th>       <td>68.470</td> <th>  Durbin-Watson:     </th> <td>   2.234</td> \n",
       "</tr>\n",
       "<tr>\n",
       "  <th>Prob(Omnibus):</th> <td> 0.000</td> <th>  Jarque-Bera (JB):  </th> <td> 659.870</td> \n",
       "</tr>\n",
       "<tr>\n",
       "  <th>Skew:</th>          <td>-1.894</td> <th>  Prob(JB):          </th> <td>5.14e-144</td>\n",
       "</tr>\n",
       "<tr>\n",
       "  <th>Kurtosis:</th>      <td>14.807</td> <th>  Cond. No.          </th> <td>    30.4</td> \n",
       "</tr>\n",
       "</table><br/><br/>Warnings:<br/>[1] Standard Errors assume that the covariance matrix of the errors is correctly specified."
      ],
      "text/plain": [
       "<class 'statsmodels.iolib.summary.Summary'>\n",
       "\"\"\"\n",
       "                            OLS Regression Results                            \n",
       "==============================================================================\n",
       "Dep. Variable:                      y   R-squared:                       0.133\n",
       "Model:                            OLS   Adj. R-squared:                  0.124\n",
       "Method:                 Least Squares   F-statistic:                     15.49\n",
       "Date:                Sat, 22 Jun 2019   Prob (F-statistic):           0.000152\n",
       "Time:                        22:40:33   Log-Likelihood:                 236.84\n",
       "No. Observations:                 103   AIC:                            -469.7\n",
       "Df Residuals:                     101   BIC:                            -464.4\n",
       "Df Model:                           1                                         \n",
       "Covariance Type:            nonrobust                                         \n",
       "==============================================================================\n",
       "                 coef    std err          t      P>|t|      [0.025      0.975]\n",
       "------------------------------------------------------------------------------\n",
       "const          0.0002      0.002      0.067      0.947      -0.005       0.005\n",
       "9              0.2894      0.074      3.936      0.000       0.144       0.435\n",
       "==============================================================================\n",
       "Omnibus:                       68.470   Durbin-Watson:                   2.234\n",
       "Prob(Omnibus):                  0.000   Jarque-Bera (JB):              659.870\n",
       "Skew:                          -1.894   Prob(JB):                    5.14e-144\n",
       "Kurtosis:                      14.807   Cond. No.                         30.4\n",
       "==============================================================================\n",
       "\n",
       "Warnings:\n",
       "[1] Standard Errors assume that the covariance matrix of the errors is correctly specified.\n",
       "\"\"\""
      ]
     },
     "execution_count": 38,
     "metadata": {},
     "output_type": "execute_result"
    }
   ],
   "source": [
    "model01.fit().summary()"
   ]
  },
  {
   "cell_type": "code",
   "execution_count": 18,
   "metadata": {},
   "outputs": [],
   "source": [
    "abev3on_diff = clean_monthly_returns[:]"
   ]
  },
  {
   "cell_type": "code",
   "execution_count": 15,
   "metadata": {},
   "outputs": [
    {
     "data": {
      "text/html": [
       "<div>\n",
       "<style scoped>\n",
       "    .dataframe tbody tr th:only-of-type {\n",
       "        vertical-align: middle;\n",
       "    }\n",
       "\n",
       "    .dataframe tbody tr th {\n",
       "        vertical-align: top;\n",
       "    }\n",
       "\n",
       "    .dataframe thead th {\n",
       "        text-align: right;\n",
       "    }\n",
       "</style>\n",
       "<table border=\"1\" class=\"dataframe\">\n",
       "  <thead>\n",
       "    <tr style=\"text-align: right;\">\n",
       "      <th></th>\n",
       "      <th>1</th>\n",
       "      <th>3</th>\n",
       "      <th>5</th>\n",
       "      <th>6</th>\n",
       "      <th>9</th>\n",
       "    </tr>\n",
       "  </thead>\n",
       "  <tbody>\n",
       "    <tr>\n",
       "      <th>2068</th>\n",
       "      <td>2018-01-03</td>\n",
       "      <td>ABEV3</td>\n",
       "      <td>AMBEV S/A</td>\n",
       "      <td>ON</td>\n",
       "      <td>0.010783</td>\n",
       "    </tr>\n",
       "    <tr>\n",
       "      <th>4264</th>\n",
       "      <td>2018-01-04</td>\n",
       "      <td>ABEV3</td>\n",
       "      <td>AMBEV S/A</td>\n",
       "      <td>ON</td>\n",
       "      <td>0.008349</td>\n",
       "    </tr>\n",
       "    <tr>\n",
       "      <th>6644</th>\n",
       "      <td>2018-01-05</td>\n",
       "      <td>ABEV3</td>\n",
       "      <td>AMBEV S/A</td>\n",
       "      <td>ON</td>\n",
       "      <td>-0.005520</td>\n",
       "    </tr>\n",
       "    <tr>\n",
       "      <th>8965</th>\n",
       "      <td>2018-01-08</td>\n",
       "      <td>ABEV3</td>\n",
       "      <td>AMBEV S/A</td>\n",
       "      <td>ON</td>\n",
       "      <td>0.003700</td>\n",
       "    </tr>\n",
       "    <tr>\n",
       "      <th>11240</th>\n",
       "      <td>2018-01-09</td>\n",
       "      <td>ABEV3</td>\n",
       "      <td>AMBEV S/A</td>\n",
       "      <td>ON</td>\n",
       "      <td>-0.002304</td>\n",
       "    </tr>\n",
       "  </tbody>\n",
       "</table>\n",
       "</div>"
      ],
      "text/plain": [
       "               1      3          5   6         9\n",
       "2068  2018-01-03  ABEV3  AMBEV S/A  ON  0.010783\n",
       "4264  2018-01-04  ABEV3  AMBEV S/A  ON  0.008349\n",
       "6644  2018-01-05  ABEV3  AMBEV S/A  ON -0.005520\n",
       "8965  2018-01-08  ABEV3  AMBEV S/A  ON  0.003700\n",
       "11240 2018-01-09  ABEV3  AMBEV S/A  ON -0.002304"
      ]
     },
     "execution_count": 15,
     "metadata": {},
     "output_type": "execute_result"
    }
   ],
   "source": [
    "abev3on_diff = abev3on[9].pct_change(1)\n",
    "abev3on_diff = abev3on.dropna(axis=0)\n",
    "\n"
   ]
  },
  {
   "cell_type": "code",
   "execution_count": null,
   "metadata": {},
   "outputs": [],
   "source": []
  }
 ],
 "metadata": {
  "kernelspec": {
   "display_name": "Python 3",
   "language": "python",
   "name": "python3"
  },
  "language_info": {
   "codemirror_mode": {
    "name": "ipython",
    "version": 3
   },
   "file_extension": ".py",
   "mimetype": "text/x-python",
   "name": "python",
   "nbconvert_exporter": "python",
   "pygments_lexer": "ipython3",
   "version": "3.6.7"
  }
 },
 "nbformat": 4,
 "nbformat_minor": 2
}
