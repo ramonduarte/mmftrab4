{
 "cells": [
  {
   "cell_type": "code",
   "execution_count": 1,
   "metadata": {},
   "outputs": [],
   "source": [
    "import numpy as np\n",
    "import pandas as pd\n",
    "import matplotlib.pyplot as plt\n",
    "from pandas_datareader import data as wb\n",
    "import datetime\n",
    "import scipy.optimize as sco\n",
    "\n",
    "start = datetime.datetime(2018, 1, 1)\n",
    "end = datetime.datetime(2019, 6, 15)"
   ]
  },
  {
   "cell_type": "code",
   "execution_count": 2,
   "metadata": {},
   "outputs": [
    {
     "data": {
      "text/html": [
       "<div>\n",
       "<style scoped>\n",
       "    .dataframe tbody tr th:only-of-type {\n",
       "        vertical-align: middle;\n",
       "    }\n",
       "\n",
       "    .dataframe tbody tr th {\n",
       "        vertical-align: top;\n",
       "    }\n",
       "\n",
       "    .dataframe thead th {\n",
       "        text-align: right;\n",
       "    }\n",
       "</style>\n",
       "<table border=\"1\" class=\"dataframe\">\n",
       "  <thead>\n",
       "    <tr style=\"text-align: right;\">\n",
       "      <th></th>\n",
       "      <th>PETR4.SA</th>\n",
       "      <th>ABEV3.SA</th>\n",
       "      <th>CIEL3.SA</th>\n",
       "      <th>ITUB4.SA</th>\n",
       "      <th>^BVSP</th>\n",
       "    </tr>\n",
       "    <tr>\n",
       "      <th>Date</th>\n",
       "      <th></th>\n",
       "      <th></th>\n",
       "      <th></th>\n",
       "      <th></th>\n",
       "      <th></th>\n",
       "    </tr>\n",
       "  </thead>\n",
       "  <tbody>\n",
       "    <tr>\n",
       "      <th>2019-06-17</th>\n",
       "      <td>0.001846</td>\n",
       "      <td>0.009029</td>\n",
       "      <td>0.003026</td>\n",
       "      <td>-0.001178</td>\n",
       "      <td>-0.004262</td>\n",
       "    </tr>\n",
       "    <tr>\n",
       "      <th>2019-06-18</th>\n",
       "      <td>0.012464</td>\n",
       "      <td>0.013947</td>\n",
       "      <td>0.019447</td>\n",
       "      <td>0.025590</td>\n",
       "      <td>0.018079</td>\n",
       "    </tr>\n",
       "    <tr>\n",
       "      <th>2019-06-19</th>\n",
       "      <td>0.002547</td>\n",
       "      <td>0.008276</td>\n",
       "      <td>0.014706</td>\n",
       "      <td>0.015668</td>\n",
       "      <td>0.009003</td>\n",
       "    </tr>\n",
       "    <tr>\n",
       "      <th>2019-06-20</th>\n",
       "      <td>0.000000</td>\n",
       "      <td>0.000000</td>\n",
       "      <td>NaN</td>\n",
       "      <td>NaN</td>\n",
       "      <td>0.000000</td>\n",
       "    </tr>\n",
       "    <tr>\n",
       "      <th>2019-06-21</th>\n",
       "      <td>0.027242</td>\n",
       "      <td>0.013643</td>\n",
       "      <td>NaN</td>\n",
       "      <td>NaN</td>\n",
       "      <td>0.016905</td>\n",
       "    </tr>\n",
       "  </tbody>\n",
       "</table>\n",
       "</div>"
      ],
      "text/plain": [
       "            PETR4.SA  ABEV3.SA  CIEL3.SA  ITUB4.SA     ^BVSP\n",
       "Date                                                        \n",
       "2019-06-17  0.001846  0.009029  0.003026 -0.001178 -0.004262\n",
       "2019-06-18  0.012464  0.013947  0.019447  0.025590  0.018079\n",
       "2019-06-19  0.002547  0.008276  0.014706  0.015668  0.009003\n",
       "2019-06-20  0.000000  0.000000       NaN       NaN  0.000000\n",
       "2019-06-21  0.027242  0.013643       NaN       NaN  0.016905"
      ]
     },
     "execution_count": 2,
     "metadata": {},
     "output_type": "execute_result"
    }
   ],
   "source": [
    "assets = ['PETR4.SA','ABEV3.SA','CIEL3.SA','ITUB4.SA','^BVSP']\n",
    "portfolio = pd.DataFrame()\n",
    "\n",
    "for t in assets:   \n",
    "    portfolio[t] = wb.DataReader(t,data_source='yahoo',start='2012-1-1',end='2019-6-20')['Adj Close']\n",
    "\n",
    "sec_ret=np.log(portfolio/portfolio.shift(1))\n",
    "sec_ret.tail()"
   ]
  },
  {
   "cell_type": "markdown",
   "metadata": {},
   "source": [
    "## Matriz de covariância"
   ]
  },
  {
   "cell_type": "code",
   "execution_count": 3,
   "metadata": {},
   "outputs": [
    {
     "data": {
      "text/html": [
       "<div>\n",
       "<style scoped>\n",
       "    .dataframe tbody tr th:only-of-type {\n",
       "        vertical-align: middle;\n",
       "    }\n",
       "\n",
       "    .dataframe tbody tr th {\n",
       "        vertical-align: top;\n",
       "    }\n",
       "\n",
       "    .dataframe thead th {\n",
       "        text-align: right;\n",
       "    }\n",
       "</style>\n",
       "<table border=\"1\" class=\"dataframe\">\n",
       "  <thead>\n",
       "    <tr style=\"text-align: right;\">\n",
       "      <th></th>\n",
       "      <th>PETR4.SA</th>\n",
       "      <th>ABEV3.SA</th>\n",
       "      <th>CIEL3.SA</th>\n",
       "      <th>ITUB4.SA</th>\n",
       "      <th>^BVSP</th>\n",
       "    </tr>\n",
       "  </thead>\n",
       "  <tbody>\n",
       "    <tr>\n",
       "      <th>PETR4.SA</th>\n",
       "      <td>0.229935</td>\n",
       "      <td>0.032758</td>\n",
       "      <td>0.042141</td>\n",
       "      <td>0.086051</td>\n",
       "      <td>0.083885</td>\n",
       "    </tr>\n",
       "    <tr>\n",
       "      <th>ABEV3.SA</th>\n",
       "      <td>0.032758</td>\n",
       "      <td>0.052819</td>\n",
       "      <td>0.021265</td>\n",
       "      <td>0.026578</td>\n",
       "      <td>0.024687</td>\n",
       "    </tr>\n",
       "    <tr>\n",
       "      <th>CIEL3.SA</th>\n",
       "      <td>0.042141</td>\n",
       "      <td>0.021265</td>\n",
       "      <td>0.106951</td>\n",
       "      <td>0.031632</td>\n",
       "      <td>0.029463</td>\n",
       "    </tr>\n",
       "    <tr>\n",
       "      <th>ITUB4.SA</th>\n",
       "      <td>0.086051</td>\n",
       "      <td>0.026578</td>\n",
       "      <td>0.031632</td>\n",
       "      <td>0.092219</td>\n",
       "      <td>0.055982</td>\n",
       "    </tr>\n",
       "    <tr>\n",
       "      <th>^BVSP</th>\n",
       "      <td>0.083885</td>\n",
       "      <td>0.024687</td>\n",
       "      <td>0.029463</td>\n",
       "      <td>0.055982</td>\n",
       "      <td>0.050850</td>\n",
       "    </tr>\n",
       "  </tbody>\n",
       "</table>\n",
       "</div>"
      ],
      "text/plain": [
       "          PETR4.SA  ABEV3.SA  CIEL3.SA  ITUB4.SA     ^BVSP\n",
       "PETR4.SA  0.229935  0.032758  0.042141  0.086051  0.083885\n",
       "ABEV3.SA  0.032758  0.052819  0.021265  0.026578  0.024687\n",
       "CIEL3.SA  0.042141  0.021265  0.106951  0.031632  0.029463\n",
       "ITUB4.SA  0.086051  0.026578  0.031632  0.092219  0.055982\n",
       "^BVSP     0.083885  0.024687  0.029463  0.055982  0.050850"
      ]
     },
     "execution_count": 3,
     "metadata": {},
     "output_type": "execute_result"
    }
   ],
   "source": [
    "# Vamos assumir 250 dias ao ano negociados.\n",
    "covariance=sec_ret.cov()*250\n",
    "covariance"
   ]
  },
  {
   "cell_type": "markdown",
   "metadata": {},
   "source": [
    "## Índice Beta: Como é Calculado?\n",
    "\n",
    "A fórmula do Índice Beta é bem simples:\n",
    "\n",
    "Beta = Covariância entre o Retorno do Ativo e do Mercado / Variância do Retorno do Mercado"
   ]
  },
  {
   "cell_type": "code",
   "execution_count": 4,
   "metadata": {},
   "outputs": [
    {
     "data": {
      "text/plain": [
       "PETR4.SA    0.083885\n",
       "ABEV3.SA    0.024687\n",
       "CIEL3.SA    0.029463\n",
       "ITUB4.SA    0.055982\n",
       "^BVSP       0.050850\n",
       "Name: ^BVSP, dtype: float64"
      ]
     },
     "execution_count": 4,
     "metadata": {},
     "output_type": "execute_result"
    }
   ],
   "source": [
    "marketcov = covariance.iloc[:,-1]\n",
    "market_var=sec_ret['^BVSP'].var()*250\n",
    "marketcov"
   ]
  },
  {
   "cell_type": "code",
   "execution_count": 5,
   "metadata": {},
   "outputs": [
    {
     "data": {
      "text/plain": [
       "0.050849839065064135"
      ]
     },
     "execution_count": 5,
     "metadata": {},
     "output_type": "execute_result"
    }
   ],
   "source": [
    "market_var"
   ]
  },
  {
   "cell_type": "code",
   "execution_count": 6,
   "metadata": {},
   "outputs": [
    {
     "data": {
      "text/plain": [
       "PETR4.SA    1.649660\n",
       "ABEV3.SA    0.485488\n",
       "CIEL3.SA    0.579403\n",
       "ITUB4.SA    1.100926\n",
       "^BVSP       1.000000\n",
       "Name: ^BVSP, dtype: float64"
      ]
     },
     "execution_count": 6,
     "metadata": {},
     "output_type": "execute_result"
    }
   ],
   "source": [
    "betam = marketcov/market_var\n",
    "betam"
   ]
  },
  {
   "cell_type": "code",
   "execution_count": 7,
   "metadata": {},
   "outputs": [
    {
     "data": {
      "text/plain": [
       "0.06880820386286685"
      ]
     },
     "execution_count": 7,
     "metadata": {},
     "output_type": "execute_result"
    }
   ],
   "source": [
    "media = sec_ret.mean()*250\n",
    "media[-1]"
   ]
  },
  {
   "cell_type": "code",
   "execution_count": 8,
   "metadata": {},
   "outputs": [
    {
     "data": {
      "text/plain": [
       "PETR4.SA    0.071282\n",
       "ABEV3.SA    0.066849\n",
       "CIEL3.SA    0.067206\n",
       "ITUB4.SA    0.069193\n",
       "^BVSP       0.068808\n",
       "Name: ^BVSP, dtype: float64"
      ]
     },
     "execution_count": 8,
     "metadata": {},
     "output_type": "execute_result"
    }
   ],
   "source": [
    "# Expected Return\n",
    "premio = sec_ret['^BVSP'].mean()*250 - 0.065\n",
    "Exp_ret= 0.065+betam*premio\n",
    "Exp_ret"
   ]
  },
  {
   "cell_type": "markdown",
   "metadata": {},
   "source": [
    "## Índice de Sharpe: Como é Calculado?\n",
    "\n",
    "IS = ( Ri -Rf ) / (σi )\n",
    "\n",
    "Onde:\n",
    "\n",
    "    IS = Índice de Sharpe\n",
    "    Ri = Retorno do Ativo\n",
    "    Rf = Retorno Livre de Riso ( Risk-Free )\n",
    "    σi = Risco do Ativo ( a letra grega sigma representa volatilidade )\n"
   ]
  },
  {
   "cell_type": "code",
   "execution_count": 9,
   "metadata": {},
   "outputs": [
    {
     "data": {
      "text/plain": [
       "PETR4.SA    0.013101\n",
       "ABEV3.SA    0.008045\n",
       "CIEL3.SA    0.006747\n",
       "ITUB4.SA    0.013806\n",
       "^BVSP       0.016888\n",
       "dtype: float64"
      ]
     },
     "execution_count": 9,
     "metadata": {},
     "output_type": "execute_result"
    }
   ],
   "source": [
    "# Calculation os Sharpe ratio\n",
    "Rf = 0.065   #SELIC witch risk free\n",
    "sharpes = []\n",
    "sigma = (sec_ret.std()*(250**0.5))\n",
    "sharpe = (Exp_ret-Rf)/sigma\n",
    "sharpe"
   ]
  },
  {
   "cell_type": "code",
   "execution_count": 10,
   "metadata": {},
   "outputs": [
    {
     "data": {
      "text/plain": [
       "PETR4.SA    0.071282\n",
       "ABEV3.SA    0.066849\n",
       "CIEL3.SA    0.067206\n",
       "ITUB4.SA    0.069193\n",
       "^BVSP       0.068808\n",
       "Name: ^BVSP, dtype: float64"
      ]
     },
     "execution_count": 10,
     "metadata": {},
     "output_type": "execute_result"
    }
   ],
   "source": [
    "Exp_ret"
   ]
  },
  {
   "cell_type": "code",
   "execution_count": 11,
   "metadata": {},
   "outputs": [
    {
     "data": {
      "text/plain": [
       "PETR4.SA    0.006282\n",
       "ABEV3.SA    0.001849\n",
       "CIEL3.SA    0.002206\n",
       "ITUB4.SA    0.004193\n",
       "^BVSP       0.003808\n",
       "Name: ^BVSP, dtype: float64"
      ]
     },
     "execution_count": 11,
     "metadata": {},
     "output_type": "execute_result"
    }
   ],
   "source": [
    "Exp_ret-Rf"
   ]
  },
  {
   "cell_type": "code",
   "execution_count": 12,
   "metadata": {},
   "outputs": [
    {
     "data": {
      "text/plain": [
       "PETR4.SA    0.479515\n",
       "ABEV3.SA    0.229825\n",
       "CIEL3.SA    0.327033\n",
       "ITUB4.SA    0.303676\n",
       "^BVSP       0.225499\n",
       "dtype: float64"
      ]
     },
     "execution_count": 12,
     "metadata": {},
     "output_type": "execute_result"
    }
   ],
   "source": [
    "sigma"
   ]
  },
  {
   "cell_type": "markdown",
   "metadata": {},
   "source": [
    "## CAPM\n",
    "\n",
    "ERi = Expected return of investment\n",
    "\n",
    "Rf = Risk-free rate\n",
    "\n",
    "βi = Beta of the investment\n",
    "\n",
    "ERm = Expected return of market\n",
    "\n",
    "(ERm - Rf) = Market risk premium\n",
    "\n",
    "ERi = Rf + βi(ERm - Rf)\n"
   ]
  },
  {
   "cell_type": "code",
   "execution_count": 15,
   "metadata": {},
   "outputs": [],
   "source": [
    "def min_risk(shares):\n",
    "    risk = np.dot(marketcov[:4]*250, np.power(shares, 2))\n",
    "    return np.array(risk)"
   ]
  },
  {
   "cell_type": "code",
   "execution_count": 16,
   "metadata": {},
   "outputs": [
    {
     "data": {
      "text/plain": [
       "13.112692419060181"
      ]
     },
     "execution_count": 16,
     "metadata": {},
     "output_type": "execute_result"
    }
   ],
   "source": [
    "shares = [0.4, 0.3, 0.2, 0.1]\n",
    "risk = np.dot(shares, np.dot(marketcov[:4]*250, shares))\n",
    "np.dot(risk, [1,1,1,1])"
   ]
  },
  {
   "cell_type": "code",
   "execution_count": 17,
   "metadata": {},
   "outputs": [
    {
     "data": {
      "text/plain": [
       "0.052450769676240724"
      ]
     },
     "execution_count": 17,
     "metadata": {},
     "output_type": "execute_result"
    }
   ],
   "source": [
    "np.dot(marketcov[:4]*250, shares)/250"
   ]
  },
  {
   "cell_type": "code",
   "execution_count": 89,
   "metadata": {},
   "outputs": [
    {
     "data": {
      "image/png": "[encoded data removed]",
      "text/plain": [
       "<Figure size 432x288 with 1 Axes>"
      ]
     },
     "metadata": {},
     "output_type": "display_data"
    }
   ],
   "source": [
    "min_ret = .067 # 6.7% rate\n",
    "cons = ({'type': 'eq', 'fun': lambda x: np.sum(x)-1}, {'type': 'ineq', 'fun': lambda x: np.dot(x, Exp_ret[:4])-min_ret})\n",
    "bnds = [(0, 1)]*(len(media)-1)\n",
    "\n",
    "opts = sco.minimize(min_risk, (len(media)-1)*[(len(media)-1)**-1,], method='SLSQP', bounds = bnds, constraints=cons)\n",
    "\n",
    "x = sec_ret.columns[:4]\n",
    "y = opts['x']\n",
    "\n",
    "plt.pie(y, labels=x, autopct='%1.1f%%', shadow=True)\n",
    "plt.suptitle(\"Portfolio 1 (stock shares at 6.5% annualized ROI)\")\n",
    "plt.savefig(\"report/Figure_9.png\")"
   ]
  },
  {
   "cell_type": "code",
   "execution_count": 91,
   "metadata": {},
   "outputs": [
    {
     "data": {
      "text/plain": [
       "0.012713706743512151"
      ]
     },
     "execution_count": 91,
     "metadata": {},
     "output_type": "execute_result"
    }
   ],
   "source": [
    "np.sum(np.dot(opts['x'], (Exp_ret-Rf)[:4])/np.dot(opts['x'], sigma[:4]))"
   ]
  },
  {
   "cell_type": "code",
   "execution_count": 90,
   "metadata": {
    "scrolled": true
   },
   "outputs": [
    {
     "data": {
      "image/png": "[encoded data removed]",
      "text/plain": [
       "<Figure size 432x288 with 1 Axes>"
      ]
     },
     "metadata": {},
     "output_type": "display_data"
    }
   ],
   "source": [
    "min_ret = .07 # 7% rate\n",
    "cons = ({'type': 'eq', 'fun': lambda x: np.sum(x)-1}, {'type': 'ineq', 'fun': lambda x: np.dot(x, Exp_ret[:4])-min_ret})\n",
    "\n",
    "opts = sco.minimize(min_risk, (len(media)-1)*[(len(media)-1)**-1,], method='SLSQP', bounds = bnds, constraints=cons)\n",
    "\n",
    "x = sec_ret.columns[:4]\n",
    "y = opts['x']\n",
    "\n",
    "plt.pie(y, labels=x, autopct='%1.1f%%', shadow=True)\n",
    "plt.suptitle(\"Portfolio 2 (stock shares at 7.0% annualized ROI)\")\n",
    "plt.savefig(\"report/Figure_10.png\")"
   ]
  }
 ],
 "metadata": {
  "kernelspec": {
   "display_name": "Python 3",
   "language": "python",
   "name": "python3"
  },
  "language_info": {
   "codemirror_mode": {
    "name": "ipython",
    "version": 3
   },
   "file_extension": ".py",
   "mimetype": "text/x-python",
   "name": "python",
   "nbconvert_exporter": "python",
   "pygments_lexer": "ipython3",
   "version": "3.6.7"
  }
 },
 "nbformat": 4,
 "nbformat_minor": 2
}
