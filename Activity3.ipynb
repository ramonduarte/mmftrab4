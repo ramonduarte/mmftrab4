{
 "cells": [
  {
   "cell_type": "code",
   "execution_count": 2,
   "metadata": {},
   "outputs": [],
   "source": [
    "import numpy as np\n",
    "import pandas as pd\n",
    "import matplotlib.pyplot as plt\n",
    "from pandas_datareader import data as wb\n"
   ]
  },
  {
   "cell_type": "code",
   "execution_count": 3,
   "metadata": {},
   "outputs": [],
   "source": [
    "assets=['PETR4.SA','ABEV3.SA','CIEL3.SA','ITUB4.SA','^BVSP']\n",
    "portfolio=pd.DataFrame()"
   ]
  },
  {
   "cell_type": "code",
   "execution_count": 4,
   "metadata": {},
   "outputs": [],
   "source": [
    "import datetime\n",
    "start = datetime.datetime(2018, 1, 1)\n",
    "end = datetime.datetime(2019, 6, 15)"
   ]
  },
  {
   "cell_type": "code",
   "execution_count": 5,
   "metadata": {},
   "outputs": [],
   "source": [
    "for t in assets:   \n",
    "    portfolio[t]=wb.DataReader(t,data_source='yahoo',start='2012-1-1',end='2019-6-20')['Adj Close']\n",
    "\n",
    "sec_ret=np.log(portfolio/portfolio.shift(1))\n"
   ]
  },
  {
   "cell_type": "code",
   "execution_count": 6,
   "metadata": {},
   "outputs": [
    {
     "data": {
      "text/html": [
       "<div>\n",
       "<style scoped>\n",
       "    .dataframe tbody tr th:only-of-type {\n",
       "        vertical-align: middle;\n",
       "    }\n",
       "\n",
       "    .dataframe tbody tr th {\n",
       "        vertical-align: top;\n",
       "    }\n",
       "\n",
       "    .dataframe thead th {\n",
       "        text-align: right;\n",
       "    }\n",
       "</style>\n",
       "<table border=\"1\" class=\"dataframe\">\n",
       "  <thead>\n",
       "    <tr style=\"text-align: right;\">\n",
       "      <th></th>\n",
       "      <th>PETR4.SA</th>\n",
       "      <th>ABEV3.SA</th>\n",
       "      <th>CIEL3.SA</th>\n",
       "      <th>ITUB4.SA</th>\n",
       "      <th>^BVSP</th>\n",
       "    </tr>\n",
       "    <tr>\n",
       "      <th>Date</th>\n",
       "      <th></th>\n",
       "      <th></th>\n",
       "      <th></th>\n",
       "      <th></th>\n",
       "      <th></th>\n",
       "    </tr>\n",
       "  </thead>\n",
       "  <tbody>\n",
       "    <tr>\n",
       "      <th>2019-06-14</th>\n",
       "      <td>-0.004425</td>\n",
       "      <td>-0.011835</td>\n",
       "      <td>-0.009050</td>\n",
       "      <td>0.000294</td>\n",
       "      <td>-0.007459</td>\n",
       "    </tr>\n",
       "    <tr>\n",
       "      <th>2019-06-17</th>\n",
       "      <td>0.001846</td>\n",
       "      <td>0.009029</td>\n",
       "      <td>0.003026</td>\n",
       "      <td>-0.001178</td>\n",
       "      <td>-0.004262</td>\n",
       "    </tr>\n",
       "    <tr>\n",
       "      <th>2019-06-18</th>\n",
       "      <td>0.012464</td>\n",
       "      <td>0.013947</td>\n",
       "      <td>0.019447</td>\n",
       "      <td>0.025590</td>\n",
       "      <td>0.018079</td>\n",
       "    </tr>\n",
       "    <tr>\n",
       "      <th>2019-06-19</th>\n",
       "      <td>0.002547</td>\n",
       "      <td>0.008276</td>\n",
       "      <td>0.014706</td>\n",
       "      <td>0.015668</td>\n",
       "      <td>0.009003</td>\n",
       "    </tr>\n",
       "    <tr>\n",
       "      <th>2019-06-21</th>\n",
       "      <td>0.027242</td>\n",
       "      <td>0.013643</td>\n",
       "      <td>0.060882</td>\n",
       "      <td>0.022360</td>\n",
       "      <td>0.016905</td>\n",
       "    </tr>\n",
       "  </tbody>\n",
       "</table>\n",
       "</div>"
      ],
      "text/plain": [
       "            PETR4.SA  ABEV3.SA  CIEL3.SA  ITUB4.SA     ^BVSP\n",
       "Date                                                        \n",
       "2019-06-14 -0.004425 -0.011835 -0.009050  0.000294 -0.007459\n",
       "2019-06-17  0.001846  0.009029  0.003026 -0.001178 -0.004262\n",
       "2019-06-18  0.012464  0.013947  0.019447  0.025590  0.018079\n",
       "2019-06-19  0.002547  0.008276  0.014706  0.015668  0.009003\n",
       "2019-06-21  0.027242  0.013643  0.060882  0.022360  0.016905"
      ]
     },
     "execution_count": 6,
     "metadata": {},
     "output_type": "execute_result"
    }
   ],
   "source": [
    "sec_ret.tail()"
   ]
  },
  {
   "cell_type": "markdown",
   "metadata": {},
   "source": [
    "## Matriz de covariância"
   ]
  },
  {
   "cell_type": "code",
   "execution_count": 7,
   "metadata": {},
   "outputs": [
    {
     "data": {
      "text/html": [
       "<div>\n",
       "<style scoped>\n",
       "    .dataframe tbody tr th:only-of-type {\n",
       "        vertical-align: middle;\n",
       "    }\n",
       "\n",
       "    .dataframe tbody tr th {\n",
       "        vertical-align: top;\n",
       "    }\n",
       "\n",
       "    .dataframe thead th {\n",
       "        text-align: right;\n",
       "    }\n",
       "</style>\n",
       "<table border=\"1\" class=\"dataframe\">\n",
       "  <thead>\n",
       "    <tr style=\"text-align: right;\">\n",
       "      <th></th>\n",
       "      <th>PETR4.SA</th>\n",
       "      <th>ABEV3.SA</th>\n",
       "      <th>CIEL3.SA</th>\n",
       "      <th>ITUB4.SA</th>\n",
       "      <th>^BVSP</th>\n",
       "    </tr>\n",
       "  </thead>\n",
       "  <tbody>\n",
       "    <tr>\n",
       "      <th>PETR4.SA</th>\n",
       "      <td>0.233129</td>\n",
       "      <td>0.032836</td>\n",
       "      <td>0.042000</td>\n",
       "      <td>0.084769</td>\n",
       "      <td>0.083534</td>\n",
       "    </tr>\n",
       "    <tr>\n",
       "      <th>ABEV3.SA</th>\n",
       "      <td>0.032836</td>\n",
       "      <td>0.052942</td>\n",
       "      <td>0.022316</td>\n",
       "      <td>0.027617</td>\n",
       "      <td>0.025215</td>\n",
       "    </tr>\n",
       "    <tr>\n",
       "      <th>CIEL3.SA</th>\n",
       "      <td>0.042000</td>\n",
       "      <td>0.022316</td>\n",
       "      <td>0.106148</td>\n",
       "      <td>0.032619</td>\n",
       "      <td>0.029866</td>\n",
       "    </tr>\n",
       "    <tr>\n",
       "      <th>ITUB4.SA</th>\n",
       "      <td>0.084769</td>\n",
       "      <td>0.027617</td>\n",
       "      <td>0.032619</td>\n",
       "      <td>0.091786</td>\n",
       "      <td>0.055732</td>\n",
       "    </tr>\n",
       "    <tr>\n",
       "      <th>^BVSP</th>\n",
       "      <td>0.083534</td>\n",
       "      <td>0.025215</td>\n",
       "      <td>0.029866</td>\n",
       "      <td>0.055732</td>\n",
       "      <td>0.050604</td>\n",
       "    </tr>\n",
       "  </tbody>\n",
       "</table>\n",
       "</div>"
      ],
      "text/plain": [
       "          PETR4.SA  ABEV3.SA  CIEL3.SA  ITUB4.SA     ^BVSP\n",
       "PETR4.SA  0.233129  0.032836  0.042000  0.084769  0.083534\n",
       "ABEV3.SA  0.032836  0.052942  0.022316  0.027617  0.025215\n",
       "CIEL3.SA  0.042000  0.022316  0.106148  0.032619  0.029866\n",
       "ITUB4.SA  0.084769  0.027617  0.032619  0.091786  0.055732\n",
       "^BVSP     0.083534  0.025215  0.029866  0.055732  0.050604"
      ]
     },
     "execution_count": 7,
     "metadata": {},
     "output_type": "execute_result"
    }
   ],
   "source": [
    "# Vamos assumir 250 dias ao ano negociados.\n",
    "covariance=sec_ret.cov()*250\n",
    "covariance\n"
   ]
  },
  {
   "cell_type": "markdown",
   "metadata": {},
   "source": [
    "## Índice Beta: Como é Calculado?\n",
    "\n",
    "A fórmula do Índice Beta é bem simples:\n",
    "\n",
    "Beta = Covariância entre o Retorno do Ativo e do Mercado / Variância do Retorno do Mercado"
   ]
  },
  {
   "cell_type": "code",
   "execution_count": 8,
   "metadata": {},
   "outputs": [],
   "source": [
    "marketcov = covariance.iloc[:,-1]\n",
    "market_var=sec_ret['^BVSP'].var()*250"
   ]
  },
  {
   "cell_type": "code",
   "execution_count": 9,
   "metadata": {},
   "outputs": [
    {
     "data": {
      "text/plain": [
       "PETR4.SA    0.083534\n",
       "ABEV3.SA    0.025215\n",
       "CIEL3.SA    0.029866\n",
       "ITUB4.SA    0.055732\n",
       "^BVSP       0.050604\n",
       "Name: ^BVSP, dtype: float64"
      ]
     },
     "execution_count": 9,
     "metadata": {},
     "output_type": "execute_result"
    }
   ],
   "source": [
    "marketcov"
   ]
  },
  {
   "cell_type": "code",
   "execution_count": 10,
   "metadata": {},
   "outputs": [
    {
     "data": {
      "text/plain": [
       "0.05060395356495615"
      ]
     },
     "execution_count": 10,
     "metadata": {},
     "output_type": "execute_result"
    }
   ],
   "source": [
    "market_var"
   ]
  },
  {
   "cell_type": "code",
   "execution_count": 11,
   "metadata": {},
   "outputs": [
    {
     "data": {
      "text/plain": [
       "PETR4.SA    1.650731\n",
       "ABEV3.SA    0.498275\n",
       "CIEL3.SA    0.590182\n",
       "ITUB4.SA    1.101340\n",
       "^BVSP       1.000000\n",
       "Name: ^BVSP, dtype: float64"
      ]
     },
     "execution_count": 11,
     "metadata": {},
     "output_type": "execute_result"
    }
   ],
   "source": [
    "betam = marketcov/market_var\n",
    "betam"
   ]
  },
  {
   "cell_type": "code",
   "execution_count": 12,
   "metadata": {},
   "outputs": [
    {
     "data": {
      "text/plain": [
       "0.07502046478803245"
      ]
     },
     "execution_count": 12,
     "metadata": {},
     "output_type": "execute_result"
    }
   ],
   "source": [
    "\n",
    "media = sec_ret.mean()*250\n",
    "media[-1]\n",
    "#Premio_bvsp = "
   ]
  },
  {
   "cell_type": "code",
   "execution_count": 14,
   "metadata": {},
   "outputs": [
    {
     "data": {
      "text/plain": [
       "PETR4.SA    0.081541\n",
       "ABEV3.SA    0.069993\n",
       "CIEL3.SA    0.070914\n",
       "ITUB4.SA    0.076036\n",
       "^BVSP       0.075020\n",
       "Name: ^BVSP, dtype: float64"
      ]
     },
     "execution_count": 14,
     "metadata": {},
     "output_type": "execute_result"
    }
   ],
   "source": [
    "# Expected Return\n",
    "premio = sec_ret['^BVSP'].mean()*250 - 0.065\n",
    "Exp_ret= 0.065+betam*premio\n",
    "Exp_ret"
   ]
  },
  {
   "cell_type": "markdown",
   "metadata": {},
   "source": [
    "## Índice de Sharpe: Como é Calculado?\n",
    "\n",
    "IS = ( Ri -Rf ) / (σi )\n",
    "\n",
    "Onde:\n",
    "\n",
    "    IS = Índice de Sharpe\n",
    "    Ri = Retorno do Ativo\n",
    "    Rf = Retorno Livre de Riso ( Risk-Free )\n",
    "    σi = Risco do Ativo ( a letra grega sigma representa volatilidade )\n"
   ]
  },
  {
   "cell_type": "code",
   "execution_count": 15,
   "metadata": {},
   "outputs": [
    {
     "data": {
      "text/plain": [
       "PETR4.SA    0.034258\n",
       "ABEV3.SA    0.021700\n",
       "CIEL3.SA    0.018152\n",
       "ITUB4.SA    0.036427\n",
       "^BVSP       0.044545\n",
       "dtype: float64"
      ]
     },
     "execution_count": 15,
     "metadata": {},
     "output_type": "execute_result"
    }
   ],
   "source": [
    "# Calculation os Sharpe ratio\n",
    "\n",
    "Rf = 0.065   #SELIC witch risk free\n",
    "\n",
    "sharpes =[]\n",
    "\n",
    "sigma = (sec_ret.std()*(250**0.5))\n",
    "\n",
    "sharpe=(Exp_ret-Rf)/sigma\n",
    "sharpe"
   ]
  },
  {
   "cell_type": "code",
   "execution_count": 16,
   "metadata": {},
   "outputs": [
    {
     "data": {
      "text/plain": [
       "PETR4.SA    0.081541\n",
       "ABEV3.SA    0.069993\n",
       "CIEL3.SA    0.070914\n",
       "ITUB4.SA    0.076036\n",
       "^BVSP       0.075020\n",
       "Name: ^BVSP, dtype: float64"
      ]
     },
     "execution_count": 16,
     "metadata": {},
     "output_type": "execute_result"
    }
   ],
   "source": [
    "Exp_ret"
   ]
  },
  {
   "cell_type": "code",
   "execution_count": 17,
   "metadata": {
    "collapsed": true
   },
   "outputs": [
    {
     "data": {
      "text/plain": [
       "PETR4.SA    0.016541\n",
       "ABEV3.SA    0.004993\n",
       "CIEL3.SA    0.005914\n",
       "ITUB4.SA    0.011036\n",
       "^BVSP       0.010020\n",
       "Name: ^BVSP, dtype: float64"
      ]
     },
     "execution_count": 17,
     "metadata": {},
     "output_type": "execute_result"
    }
   ],
   "source": [
    "Exp_ret-Rf"
   ]
  },
  {
   "cell_type": "code",
   "execution_count": 18,
   "metadata": {},
   "outputs": [
    {
     "data": {
      "text/plain": [
       "PETR4.SA    0.482835\n",
       "ABEV3.SA    0.230092\n",
       "CIEL3.SA    0.325804\n",
       "ITUB4.SA    0.302962\n",
       "^BVSP       0.224953\n",
       "dtype: float64"
      ]
     },
     "execution_count": 18,
     "metadata": {},
     "output_type": "execute_result"
    }
   ],
   "source": [
    "sigma"
   ]
  },
  {
   "cell_type": "markdown",
   "metadata": {},
   "source": [
    "## CAPM\n",
    "\n",
    "ERi = Expected return of investment\n",
    "\n",
    "Rf = Risk-free rate\n",
    "\n",
    "βi = Beta of the investment\n",
    "\n",
    "ERm = Expected return of market\n",
    "\n",
    "(ERm - Rf) = Market risk premium\n",
    "\n",
    "ERi = Rf + βi(ERm - Rf)\n"
   ]
  },
  {
   "cell_type": "code",
   "execution_count": 45,
   "metadata": {},
   "outputs": [
    {
     "data": {
      "text/plain": [
       "array(6.43661261)"
      ]
     },
     "execution_count": 45,
     "metadata": {},
     "output_type": "execute_result"
    }
   ],
   "source": [
    "import scipy.optimize as sco\n",
    "\n",
    "\n",
    "# portfolios = sco.minimize(, [0.5, 0.1, 0.2, 0.2], )\n",
    "\n",
    "\n",
    "# def statistics():\n",
    "#     pret = sec_ret[-250:]\n",
    "#     pvol = allocations\n",
    "#     return np.array([pret, pvol, pret/pvol])\n",
    "\n",
    "\n",
    "def min_risk(shares):\n",
    "    risk = np.dot(marketcov[:4]*250, np.power(shares, 2))\n",
    "    return np.array(risk)\n",
    "\n",
    "min_risk([0.4, 0.3, 0.2, 0.4])"
   ]
  },
  {
   "cell_type": "code",
   "execution_count": 39,
   "metadata": {},
   "outputs": [
    {
     "data": {
      "text/plain": [
       "13.131034593052949"
      ]
     },
     "execution_count": 39,
     "metadata": {},
     "output_type": "execute_result"
    }
   ],
   "source": [
    "shares = [0.4, 0.3, 0.2, 0.1]\n",
    "risk = np.dot(shares, np.dot(marketcov[:4]*250, shares))\n",
    "np.dot(risk, [1,1,1,1])"
   ]
  },
  {
   "cell_type": "code",
   "execution_count": 40,
   "metadata": {},
   "outputs": [
    {
     "data": {
      "text/plain": [
       "0.0525241383722118"
      ]
     },
     "execution_count": 40,
     "metadata": {},
     "output_type": "execute_result"
    }
   ],
   "source": [
    "np.dot(marketcov[:4]*250, shares)/250"
   ]
  },
  {
   "cell_type": "code",
   "execution_count": 53,
   "metadata": {},
   "outputs": [
    {
     "data": {
      "text/plain": [
       "array([0.11616227, 0.3848397 , 0.32489025, 0.17410778])"
      ]
     },
     "execution_count": 53,
     "metadata": {},
     "output_type": "execute_result"
    }
   ],
   "source": [
    "min_ret = .07\n",
    "cons = ({'type': 'eq', 'fun': lambda x: np.sum(x)-1}, {'type': 'ineq', 'fun': lambda x: np.dot(x, Exp_ret[:4])-min_ret})\n",
    "bnds = [(0, 1)]*(len(media)-1)\n",
    "\n",
    "opts = sco.minimize(min_risk, (len(media)-1)*[(len(media)-1)**-1,], method='SLSQP', bounds = bnds, constraints=cons)\n",
    "opts['x']"
   ]
  },
  {
   "cell_type": "code",
   "execution_count": 52,
   "metadata": {},
   "outputs": [
    {
     "data": {
      "text/plain": [
       "array([0.72006369, 0.        , 0.        , 0.27993631])"
      ]
     },
     "execution_count": 52,
     "metadata": {},
     "output_type": "execute_result"
    }
   ],
   "source": [
    "min_ret = .08\n",
    "cons = ({'type': 'eq', 'fun': lambda x: np.sum(x)-1}, {'type': 'ineq', 'fun': lambda x: np.dot(x, Exp_ret[:4])-min_ret})\n",
    "\n",
    "opts = sco.minimize(min_risk, (len(media)-1)*[(len(media)-1)**-1,], method='SLSQP', bounds = bnds, constraints=cons)\n",
    "opts['x']"
   ]
  }
 ],
 "metadata": {
  "kernelspec": {
   "display_name": "Python 3",
   "language": "python",
   "name": "python3"
  },
  "language_info": {
   "codemirror_mode": {
    "name": "ipython",
    "version": 3
   },
   "file_extension": ".py",
   "mimetype": "text/x-python",
   "name": "python",
   "nbconvert_exporter": "python",
   "pygments_lexer": "ipython3",
   "version": "3.6.7"
  }
 },
 "nbformat": 4,
 "nbformat_minor": 2
}
